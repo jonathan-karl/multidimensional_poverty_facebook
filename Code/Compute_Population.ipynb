{
 "cells": [
  {
   "cell_type": "code",
   "execution_count": 1,
   "metadata": {},
   "outputs": [
    {
     "name": "stdout",
     "output_type": "stream",
     "text": [
      "/Library/Frameworks/Python.framework/Versions/3.9/bin/python3.9\n"
     ]
    },
    {
     "data": {
      "text/plain": [
       "0"
      ]
     },
     "execution_count": 1,
     "metadata": {},
     "output_type": "execute_result"
    }
   ],
   "source": [
    "# Check environment\n",
    "import sys\n",
    "print(sys.executable)\n",
    "\n",
    "import gc\n",
    "gc.collect()"
   ]
  },
  {
   "cell_type": "markdown",
   "metadata": {},
   "source": [
    "# Population Data Processing"
   ]
  },
  {
   "cell_type": "markdown",
   "metadata": {},
   "source": [
    "This notebook is devoted to computing population sums of each DHS cluster. Note that one must download the file 'ind_ppp_2020_constrained.tiff' from: WorldPop (www.worldpop.org - School of Geography and Environmental Science, University of Southampton; Department of Geography and Geosciences, University of Louisville; Departement de Geographie, Universite de Namur) and Center for International Earth Science Information Network (CIESIN), Columbia University.\n",
    "\n",
    "Additionally, one must create a shapefile of each cluster being a circular polygon with the radius of desire. This file can be easily computed with QGIS or ArcGIS. Any questions? Reach out to j.s.karl@lse.ac.uk "
   ]
  },
  {
   "cell_type": "code",
   "execution_count": 1,
   "metadata": {},
   "outputs": [
    {
     "name": "stdout",
     "output_type": "stream",
     "text": [
      "Path Set to: /Users/Jonathan/OneDrive - London School of Economics/MY498 - Capstone-Project/\n"
     ]
    }
   ],
   "source": [
    "# import necessary packages to work with spatial data in Python\n",
    "import os\n",
    "import gc\n",
    "import fiona, rasterio\n",
    "import geopandas as gpd\n",
    "from rasterio.plot import show\n",
    "import matplotlib.pyplot as plt\n",
    "import rasterio.plot as rplt\n",
    "from rasterio.features import rasterize\n",
    "import rasterstats\n",
    "from rasterstats import zonal_stats, point_query\n",
    "import pandas as pd\n",
    "import numpy as np\n",
    "\n",
    "#Input path\n",
    "path1 = \"/Users/Jonathan/OneDrive - London School of Economics/MY498 - Capstone-Project/\"\n",
    "path2 = \"Your Directory\"\n",
    "if os.path.isdir(path1)==True:\n",
    "    path = path1\n",
    "elif os.path.isdir(path2)==True:\n",
    "    path = path2\n",
    "else:\n",
    "    print(\"none of the paths are valid\")\n",
    "\n",
    "os.chdir(path)\n",
    "print(\"Path Set to: \"+path)\n",
    "\n",
    "# Set up paths for luminosity data, shapefiles, and data exports\n",
    "path_pop = path+\"Raw Data/WorldPop/\"\n",
    "path_shapefile = path+\"Data Exports/QGIS/\"\n",
    "path_export = \"/Users/Jonathan/OneDrive - London School of Economics/MY498 - Capstone-Project/Data Exports/\""
   ]
  },
  {
   "cell_type": "code",
   "execution_count": 2,
   "metadata": {},
   "outputs": [],
   "source": [
    "def zonalstats_population():\n",
    "        \n",
    "    \n",
    "    # Read tiff file\n",
    "    with rasterio.open(path_pop+\"ind_ppp_2020_constrained.tiff\") as src:\n",
    "        transform = src.transform\n",
    "        array = src.read(1)\n",
    "        \n",
    "    # Compute Population Statistics for each cluster\n",
    "    zs = zonal_stats(path_shapefile+\"DHS_polygons_FB_ready.shp\",\n",
    "                     array, \n",
    "                     affine=transform, \n",
    "                     geojson_out=True, \n",
    "                     stats=[\"sum\"])\n",
    "\n",
    "        \n",
    "    population = []\n",
    "    for i in range(len(zs)):\n",
    "        one_district = zs[i]\n",
    "        district_properties = one_district['properties']\n",
    "        sum_temp = district_properties[\"sum\"]\n",
    "        if sum_temp == None:\n",
    "            population.append(0)\n",
    "        else:\n",
    "            population.append(sum_temp)\n",
    "\n",
    "\n",
    "    population_rounded = [int(cluster) for cluster in population]\n",
    "    population_rounded\n",
    "    return(population_rounded)\n",
    "        \n",
    "    print(\"Done with: Population Computation\")\n",
    "    "
   ]
  },
  {
   "cell_type": "code",
   "execution_count": 3,
   "metadata": {},
   "outputs": [
    {
     "name": "stderr",
     "output_type": "stream",
     "text": [
      "/Library/Frameworks/Python.framework/Versions/3.9/lib/python3.9/site-packages/rasterstats/io.py:302: UserWarning: Setting nodata to -999; specify nodata explicitly\n",
      "  warnings.warn(\"Setting nodata to -999; specify nodata explicitly\")\n"
     ]
    },
    {
     "name": "stdout",
     "output_type": "stream",
     "text": [
      "\n",
      "Population data processed. All Done.\n"
     ]
    }
   ],
   "source": [
    "# Execute function\n",
    "population_output = zonalstats_population()\n",
    "print(\"\\nPopulation data processed. All Done.\")"
   ]
  },
  {
   "cell_type": "code",
   "execution_count": null,
   "metadata": {},
   "outputs": [],
   "source": [
    "population_output"
   ]
  }
 ],
 "metadata": {
  "kernelspec": {
   "display_name": "Python 3",
   "language": "python",
   "name": "python3"
  },
  "language_info": {
   "codemirror_mode": {
    "name": "ipython",
    "version": 3
   },
   "file_extension": ".py",
   "mimetype": "text/x-python",
   "name": "python",
   "nbconvert_exporter": "python",
   "pygments_lexer": "ipython3",
   "version": "3.7.4"
  }
 },
 "nbformat": 4,
 "nbformat_minor": 2
}
